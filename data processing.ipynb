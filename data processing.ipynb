{
 "cells": [
  {
   "cell_type": "code",
   "execution_count": null,
   "metadata": {},
   "outputs": [],
   "source": [
    "from __future__ import print_function\n",
    "\n",
    "import numpy as np\n",
    "import pandas as pd\n",
    "import argparse\n",
    "import os\n",
    "import sys\n",
    "from shutil import copyfile"
   ]
  },
  {
   "cell_type": "code",
   "execution_count": null,
   "metadata": {},
   "outputs": [],
   "source": [
    "#arguments\n",
    "min_user = 0\n",
    "min_movie = 0\n",
    "\n",
    "train_percentage = 0.8\n",
    "val_percentage = 0.1\n",
    "##test_percentage = 1 - train_percentage - val_percentage"
   ]
  },
  {
   "cell_type": "code",
   "execution_count": null,
   "metadata": {},
   "outputs": [],
   "source": [
    "#read data from file\n",
    "def load_data(data):\n",
    "    data = data.sort_values('timestamp')\n",
    "    user_count = data.groupby('userId').size()\n",
    "    data = data[np.in1d(data.userId, user_count[user_count> min_user].index)]\n",
    "    movie_count = data.groupby('movieId').size()\n",
    "    data = data[np.in1d(data.movieId, movie_count[movie_count> min_movie].index)]\n",
    "    return data"
   ]
  },
  {
   "cell_type": "code",
   "execution_count": null,
   "metadata": {},
   "outputs": [],
   "source": [
    "#reindex movie ids to remove unused id.\n",
    "def get_cat_mapping(data):\n",
    "    data['userCode'] = data['userId'].astype('category').cat.codes\n",
    "    data['movieCode'] = data['movieId'].astype('category').cat.codes\n",
    "    user_dict = data.set_index('userCode').to_dict()['userId']\n",
    "    movie_dict = data.set_index('movieCode').to_dict()['movieId']\n",
    "    return user_dict, movie_dict"
   ]
  },
  {
   "cell_type": "code",
   "execution_count": null,
   "metadata": {},
   "outputs": [],
   "source": [
    "#split training, validation, test set.\n",
    "def my_train_test_split(data,train_percentage,val_percentage):\n",
    "    train, validate, test = np.split(data.sample(frac=1), [int(train_percentage*len(data)), int((train_percentage+val_percentage)*len(data))])\n",
    "    return train,validate,test"
   ]
  },
  {
   "cell_type": "code",
   "execution_count": null,
   "metadata": {},
   "outputs": [],
   "source": [
    "# save data to file\n",
    "def save_sets(train,val,test):\n",
    "    train.iloc[:,2:].to_csv(\"./train_set.csv\", sep=\"\\t\", index=False, header=['rating', 'timestamp', 'userCode', 'movieCode'])\n",
    "    val.iloc[:,2:].to_csv(\"./val_set.csv\", sep=\"\\t\", index=False, header=['rating', 'timestamp', 'userCode', 'movieCode'])\n",
    "    test.iloc[:,2:].to_csv(\"./test_set.csv\", sep=\"\\t\", index=False, header=['rating', 'timestamp', 'userCode', 'movieCode'])"
   ]
  },
  {
   "cell_type": "code",
   "execution_count": null,
   "metadata": {},
   "outputs": [],
   "source": []
  }
 ],
 "metadata": {
  "kernelspec": {
   "display_name": "Python 3",
   "language": "python",
   "name": "python3"
  },
  "language_info": {
   "codemirror_mode": {
    "name": "ipython",
    "version": 3
   },
   "file_extension": ".py",
   "mimetype": "text/x-python",
   "name": "python",
   "nbconvert_exporter": "python",
   "pygments_lexer": "ipython3",
   "version": "3.6.6"
  }
 },
 "nbformat": 4,
 "nbformat_minor": 2
}
