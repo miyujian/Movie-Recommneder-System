{
 "cells": [
  {
   "cell_type": "code",
   "execution_count": null,
   "metadata": {},
   "outputs": [],
   "source": [
    "\n",
    "from __future__ import print_function\n",
    "\n",
    "import numpy as np\n",
    "from importlib import reload\n",
    "from keras import optimizers\n",
    "from keras import backend as be\n",
    "from keras.models import Sequential, load_model\n",
    "from keras.layers import RNN, GRU, LSTM, Dense, Activation, Bidirectional, Masking, Embedding, Dropout,Input\n",
    "\n",
    "from os import environ\n",
    "from keras.callbacks import Callback\n",
    "\n",
    "import numpy as np\n",
    "import pandas as pd\n",
    "import random"
   ]
  },
  {
   "cell_type": "code",
   "execution_count": null,
   "metadata": {},
   "outputs": [],
   "source": [
    "n_movie = 3706\n",
    "hidden_units = 20\n",
    "batch_size = 16\n",
    "max_length = 40\n",
    "lr = 0.3"
   ]
  },
  {
   "cell_type": "code",
   "execution_count": null,
   "metadata": {},
   "outputs": [],
   "source": [
    "train_set_sequences = pd.read_csv(\"./train_set_sequences\",header=None)\n",
    "val_set_sequences = pd.read_csv(\"./val_set_sequences\",header=None)\n",
    "test_set_sequences = pd.read_csv(\"./test_set_sequences\",header=None)"
   ]
  },
  {
   "cell_type": "code",
   "execution_count": null,
   "metadata": {},
   "outputs": [],
   "source": [
    "def seq_generator(df):\n",
    "    while True:\n",
    "        t = df.reindex(np.random.permutation(df.index))\n",
    "        for i in range(len(t[0])):\n",
    "            yield t[0][i]"
   ]
  },
  {
   "cell_type": "code",
   "execution_count": null,
   "metadata": {},
   "outputs": [],
   "source": [
    "def target_selection(sequence, test=False,shuffle=False,bias = 0,n_targets=1):\n",
    "    if not (test):\n",
    "        if shuffle:\n",
    "            random.shuffle(sequence)\n",
    "    return sequence[:min(len(sequence), n_targets)]"
   ]
  },
  {
   "cell_type": "code",
   "execution_count": null,
   "metadata": {},
   "outputs": [],
   "source": [
    "def mini_batch_generator(seq_gen,batch_size=batch_size,max_length=max_length):\n",
    "    while True:\n",
    "        sequences = []\n",
    "        j = 0\n",
    "        sequences = []\n",
    "        j = 0\n",
    "        while j < batch_size:\n",
    "            g = next(seq_gen).split(\" \")\n",
    "            s = g[1:]\n",
    "            u = g[0]\n",
    "            sequence = [[s[2*x],s[2*x+1]] for x in range(int(len(s)/2))]\n",
    "            seq_lengths = sorted(random.sample(range(2, len(sequence)), min([batch_size - j, len(sequence) - 2])))\n",
    "            skipped_seq = 0\n",
    "\n",
    "            for l in seq_lengths:\n",
    "                target = target_selection(sequence[l:])\n",
    "                if len(target) == 0:\n",
    "                    skipped_seq += 1\n",
    "                    continue\n",
    "                start = max(0, l - max_length) # sequences cannot be longer than self.max_lenght\n",
    "#                 print(l,max_length,l-max_length)\n",
    "                sequences.append([u, sequence[start:l], target])\n",
    "            j += len(seq_lengths) - skipped_seq\n",
    "#         print(sequences.shape)\n",
    "        yield sequences"
   ]
  },
  {
   "cell_type": "code",
   "execution_count": null,
   "metadata": {},
   "outputs": [],
   "source": [
    "def ohencode(x,n_movie):\n",
    "    encode = np.zeros((1,n_movie))\n",
    "    encode[0][int(x)] = 1\n",
    "    return encode"
   ]
  },
  {
   "cell_type": "code",
   "execution_count": null,
   "metadata": {},
   "outputs": [],
   "source": [
    "def prepare_input(sequences,max_length=max_length,n_movies=n_movie,input_size=n_movie):\n",
    "    batch_size = len(sequences)\n",
    "\n",
    "    # Shape return variables\n",
    "    X = np.zeros((batch_size, max_length, input_size))\n",
    "    Y = np.zeros((batch_size,input_size), dtype='int32')\n",
    "\n",
    "\n",
    "    for i, sequence in enumerate(sequences):\n",
    "        user_id, in_seq, target = sequence\n",
    "        seq_features = [ohencode(x,n_movie) for x in [y[0] for y in in_seq]]\n",
    "\n",
    "        X[i, :len(in_seq), :] = seq_features \n",
    "        Y[i,:] = ohencode(target[0][0],n_movie)\n",
    "\n",
    "    return X,Y"
   ]
  },
  {
   "cell_type": "code",
   "execution_count": null,
   "metadata": {},
   "outputs": [],
   "source": [
    "def input_generator(batch_generator,max_length=max_length,n_movie=n_movie,input_size=n_movie):\n",
    "    while True:\n",
    "        n = next(batch_generator)\n",
    "        yield prepare_input(n,max_length,n_movie,input_size)"
   ]
  },
  {
   "cell_type": "code",
   "execution_count": null,
   "metadata": {},
   "outputs": [],
   "source": [
    "model_unidirection = Sequential()\n",
    "\n",
    "model_unidirection.add(LSTM(hidden_units, dropout=0.2,batch_input_shape=(batch_size,max_length,n_movie)))\n",
    "\n",
    "model_unidirection.add(Dense(n_movie))\n",
    "model_unidirection.add(Activation('softmax'))\n",
    "\n",
    "# optimizer in paper\n",
    "optimizer = optimizers.Adagrad(lr=lr) \n",
    "model_unidirection.compile(loss='categorical_crossentropy', optimizer=optimizer)\n",
    "model_unidirection.summary()"
   ]
  },
  {
   "cell_type": "code",
   "execution_count": null,
   "metadata": {},
   "outputs": [],
   "source": [
    "model = Sequential()\n",
    "\n",
    "model.add(Bidirectional(LSTM(hidden_units, dropout=0.2),batch_input_shape=(batch_size,max_length,n_movie)))\n",
    "\n",
    "model.add(Dense(n_movie))\n",
    "model.add(Activation('softmax'))\n",
    "\n",
    "optimizer = optimizers.Adagrad(lr=lr) \n",
    "model.compile(loss='categorical_crossentropy', optimizer=optimizer)\n",
    "\n",
    "model.summary()"
   ]
  },
  {
   "cell_type": "code",
   "execution_count": null,
   "metadata": {},
   "outputs": [],
   "source": [
    "train_gen = input_generator(mini_batch_generator(seq_generator(train_set_sequences)))\n",
    "val_gen = input_generator(mini_batch_generator(seq_generator(val_set_sequences)))"
   ]
  },
  {
   "cell_type": "code",
   "execution_count": null,
   "metadata": {},
   "outputs": [],
   "source": [
    "spsList = []"
   ]
  },
  {
   "cell_type": "code",
   "execution_count": null,
   "metadata": {},
   "outputs": [],
   "source": [
    "sps = 0\n",
    "total = 0\n",
    "for i in range(5000):\n",
    "    model.fit_generator(train_gen,verbose=1,epochs=1, steps_per_epoch=1)\n",
    "    val_x,val_y = next(val_gen)\n",
    "    pred = model.predict(val_x)\n",
    "    for p,t in zip(pred,val_y):\n",
    "        total += 1\n",
    "        top10pred = np.argpartition(np.array(p),-10)[-10:]\n",
    "        truepred = np.argpartition(np.array(t),-1)[-1]\n",
    "        if truepred in top10pred:\n",
    "            sps += 1\n",
    "    if i % 10 == 0:\n",
    "        print(\"epochs\",i,\"sp rate:\",sps/total)\n",
    "        if i % 100 == 0:\n",
    "            spsList.append(sps/total)"
   ]
  },
  {
   "cell_type": "code",
   "execution_count": null,
   "metadata": {},
   "outputs": [],
   "source": [
    "#unidirection model train\n",
    "model = model_unidirection\n",
    "for i in range(5000):\n",
    "    model.fit_generator(train_gen,verbose=1,epochs=1, steps_per_epoch=1)\n",
    "    val_x,val_y = next(val_gen)\n",
    "    pred = model.predict(val_x)\n",
    "    for p,t in zip(pred,val_y):\n",
    "        total += 1\n",
    "        top10pred = np.argpartition(np.array(p),-10)[-10:]\n",
    "        truepred = np.argpartition(np.array(t),-1)[-1]\n",
    "#         print(top10pred)\n",
    "        if truepred in top10pred:\n",
    "            sps += 1\n",
    "#     print(i)\n",
    "    if i % 10 == 0:\n",
    "        print(\"epochs\",i,\"sp rate:\",sps/total)\n",
    "        if i % 100 == 0:\n",
    "            spsList.append(sps/total)"
   ]
  },
  {
   "cell_type": "code",
   "execution_count": null,
   "metadata": {},
   "outputs": [],
   "source": [
    "#bidirection model train\n",
    "for i in range(5000):\n",
    "    model.fit_generator(train_gen,verbose=1,epochs=1, steps_per_epoch=1)\n",
    "    val_x,val_y = next(val_gen)\n",
    "    pred = model.predict(val_x)\n",
    "    for p,t in zip(pred,val_y):\n",
    "        total += 1\n",
    "        top10pred = np.argpartition(np.array(p),-10)[-10:]\n",
    "        truepred = np.argpartition(np.array(t),-1)[-1]\n",
    "#         print(top10pred)\n",
    "        if truepred in top10pred:\n",
    "            sps += 1\n",
    "#     print(i)\n",
    "    if i % 10 == 0:\n",
    "        print(\"epochs\",i,\"sp rate:\",sps/total)\n",
    "        if i % 100 == 0:\n",
    "            spsList.append(sps/total)"
   ]
  },
  {
   "cell_type": "code",
   "execution_count": null,
   "metadata": {},
   "outputs": [],
   "source": [
    "import matplotlib.pyplot as plt\n",
    "len(spsList)"
   ]
  },
  {
   "cell_type": "code",
   "execution_count": null,
   "metadata": {},
   "outputs": [],
   "source": [
    "plt.plot(spsList)\n",
    "plt.ylabel(\"accuracy\")\n",
    "plt.xlabel(\"100 epochs\")\n",
    "plt.show()"
   ]
  },
  {
   "cell_type": "code",
   "execution_count": null,
   "metadata": {},
   "outputs": [],
   "source": [
    "#test\n",
    "total = 0\n",
    "sps = 0\n",
    "\n",
    "for i in range(5000):\n",
    "    test_x,test_y = next(test_gen)\n",
    "    pred = model.predict(test_x)\n",
    "    for p,t in zip(pred,test_y):\n",
    "        total += 1\n",
    "        top10pred = np.argpartition(np.array(p),-10)[-10:]\n",
    "        truepred = np.argpartition(np.array(t),-1)[-1]\n",
    "        if truepred in top10pred:\n",
    "            sps += 1\n",
    "\n",
    "print(\"5000 test examples\",\"sp rate:\",sps/total)"
   ]
  }
 ],
 "metadata": {
  "kernelspec": {
   "display_name": "Python 3",
   "language": "python",
   "name": "python3"
  },
  "language_info": {
   "codemirror_mode": {
    "name": "ipython",
    "version": 3
   },
   "file_extension": ".py",
   "mimetype": "text/x-python",
   "name": "python",
   "nbconvert_exporter": "python",
   "pygments_lexer": "ipython3",
   "version": "3.6.6"
  }
 },
 "nbformat": 4,
 "nbformat_minor": 2
}
